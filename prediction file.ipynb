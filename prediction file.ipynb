{
 "cells": [
  {
   "cell_type": "code",
   "execution_count": 1,
   "metadata": {},
   "outputs": [
    {
     "name": "stderr",
     "output_type": "stream",
     "text": [
      "Using TensorFlow backend.\n"
     ]
    }
   ],
   "source": [
    "from keras.models import load_model"
   ]
  },
  {
   "cell_type": "code",
   "execution_count": 2,
   "metadata": {},
   "outputs": [],
   "source": [
    "classifier = load_model('fiimagerecognition_vgg16.h5')"
   ]
  },
  {
   "cell_type": "code",
   "execution_count": 3,
   "metadata": {},
   "outputs": [
    {
     "data": {
      "text/plain": [
       "[<keras.engine.input_layer.InputLayer at 0x1547f3b8408>,\n",
       " <keras.layers.convolutional.Conv2D at 0x15407dc1a48>,\n",
       " <keras.layers.convolutional.Conv2D at 0x15407dc1e48>,\n",
       " <keras.layers.pooling.MaxPooling2D at 0x15407ddd5c8>,\n",
       " <keras.layers.convolutional.Conv2D at 0x15407dddfc8>,\n",
       " <keras.layers.convolutional.Conv2D at 0x15407de9a08>,\n",
       " <keras.layers.pooling.MaxPooling2D at 0x15407de9e08>,\n",
       " <keras.layers.convolutional.Conv2D at 0x15407dfc248>,\n",
       " <keras.layers.convolutional.Conv2D at 0x15407dfc708>,\n",
       " <keras.layers.convolutional.Conv2D at 0x15407dfcbc8>,\n",
       " <keras.layers.pooling.MaxPooling2D at 0x15407dfcfc8>,\n",
       " <keras.layers.convolutional.Conv2D at 0x15407dfe448>,\n",
       " <keras.layers.convolutional.Conv2D at 0x15407dfe908>,\n",
       " <keras.layers.convolutional.Conv2D at 0x15407dfedc8>,\n",
       " <keras.layers.pooling.MaxPooling2D at 0x15407dff248>,\n",
       " <keras.layers.convolutional.Conv2D at 0x15407dff648>,\n",
       " <keras.layers.convolutional.Conv2D at 0x15407dffb08>,\n",
       " <keras.layers.convolutional.Conv2D at 0x15407dfffc8>,\n",
       " <keras.layers.pooling.MaxPooling2D at 0x15407e01448>,\n",
       " <keras.layers.core.Flatten at 0x15407e01848>,\n",
       " <keras.layers.core.Dense at 0x15407e01b08>,\n",
       " <keras.layers.core.Dense at 0x15407e01e88>,\n",
       " <keras.layers.core.Dense at 0x15407e030c8>,\n",
       " <keras.layers.core.Dense at 0x15407e03448>,\n",
       " <keras.layers.core.Dense at 0x15407e037c8>,\n",
       " <keras.layers.core.Dense at 0x15407e03b48>]"
      ]
     },
     "execution_count": 3,
     "metadata": {},
     "output_type": "execute_result"
    }
   ],
   "source": [
    "classifier.layers"
   ]
  },
  {
   "cell_type": "code",
   "execution_count": 4,
   "metadata": {},
   "outputs": [],
   "source": [
    "import os\n",
    "import cv2\n",
    "import numpy as np\n",
    "from os import listdir\n",
    "from os.path import isfile, join\n",
    "\n",
    "data_dict = {\"[0]\": \"manya\", \n",
    "                      \"[1]\": \"yash\"}\n",
    "\n",
    "data_dict_n = {\"n0\": \"manya\", \n",
    "                      \"n1\": \"yash\"}\n",
    "\n",
    "def draw_test(name, pred, im):\n",
    "    data = data_dict[str(pred)]\n",
    "    BLACK = [0,0,0]\n",
    "    expanded_image = cv2.copyMakeBorder(im, 80, 0, 0, 100 ,cv2.BORDER_CONSTANT,value=BLACK)\n",
    "    cv2.putText(expanded_image, data, (20, 60) , cv2.FONT_HERSHEY_SIMPLEX,1, (0,0,255), 2)\n",
    "    cv2.imshow(name, expanded_image)\n",
    "\n",
    "def getRandomImage(path):\n",
    "    \"\"\"function loads a random images from a random folder in our test path \"\"\"\n",
    "    folders = list(filter(lambda x: os.path.isdir(os.path.join(path, x)), os.listdir(path)))\n",
    "    random_directory = np.random.randint(0,len(folders))\n",
    "    path_class = folders[random_directory]\n",
    "    #print(\"Class - \" + monkey_breeds_dict_n[str(path_class)])\n",
    "    file_path = path + path_class\n",
    "    file_names = [f for f in listdir(file_path) if isfile(join(file_path, f))]\n",
    "    random_file_index = np.random.randint(0,len(file_names))\n",
    "    image_name = file_names[random_file_index]\n",
    "    return cv2.imread(file_path+\"/\"+image_name)    \n",
    "\n",
    "for i in range(0,10):\n",
    "    input_im = getRandomImage(\"prediction/\")\n",
    "    input_original = input_im.copy()\n",
    "    input_original = cv2.resize(input_original, None, fx=0.5, fy=0.5, interpolation = cv2.INTER_LINEAR)\n",
    "    \n",
    "    input_im = cv2.resize(input_im, (224, 224), interpolation = cv2.INTER_LINEAR)\n",
    "    input_im = input_im / 255.\n",
    "    input_im = input_im.reshape(1,224,224,3) \n",
    "    \n",
    "    # Get Prediction\n",
    "    res = np.argmax(classifier.predict(input_im, 1, verbose = 0), axis=1)\n",
    "    \n",
    "    # Show image with predicted class\n",
    "    draw_test(\"Prediction\", res, input_original) \n",
    "    cv2.waitKey(0)\n",
    "\n",
    "cv2.destroyAllWindows()"
   ]
  },
  {
   "cell_type": "code",
   "execution_count": 5,
   "metadata": {},
   "outputs": [
    {
     "data": {
      "text/plain": [
       "['manya', 'yash']"
      ]
     },
     "execution_count": 5,
     "metadata": {},
     "output_type": "execute_result"
    }
   ],
   "source": [
    "path = \"prediction/\"\n",
    "folders = list(filter(lambda x: os.path.isdir(os.path.join(path, x)), os.listdir(path)))\n",
    "folders"
   ]
  },
  {
   "cell_type": "code",
   "execution_count": null,
   "metadata": {},
   "outputs": [],
   "source": []
  }
 ],
 "metadata": {
  "kernelspec": {
   "display_name": "Python 3",
   "language": "python",
   "name": "python3"
  },
  "language_info": {
   "codemirror_mode": {
    "name": "ipython",
    "version": 3
   },
   "file_extension": ".py",
   "mimetype": "text/x-python",
   "name": "python",
   "nbconvert_exporter": "python",
   "pygments_lexer": "ipython3",
   "version": "3.7.7"
  }
 },
 "nbformat": 4,
 "nbformat_minor": 4
}
