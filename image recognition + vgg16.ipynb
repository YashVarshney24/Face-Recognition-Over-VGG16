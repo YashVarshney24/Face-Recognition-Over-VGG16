{
 "cells": [
  {
   "cell_type": "code",
   "execution_count": 1,
   "metadata": {},
   "outputs": [
    {
     "name": "stderr",
     "output_type": "stream",
     "text": [
      "Using TensorFlow backend.\n"
     ]
    }
   ],
   "source": [
    "from keras.applications import vgg16"
   ]
  },
  {
   "cell_type": "code",
   "execution_count": 2,
   "metadata": {},
   "outputs": [],
   "source": [
    "model = vgg16.VGG16(weights = 'imagenet')"
   ]
  },
  {
   "cell_type": "code",
   "execution_count": 3,
   "metadata": {},
   "outputs": [
    {
     "data": {
      "text/plain": [
       "<tf.Tensor 'input_1:0' shape=(None, 224, 224, 3) dtype=float32>"
      ]
     },
     "execution_count": 3,
     "metadata": {},
     "output_type": "execute_result"
    }
   ],
   "source": [
    "model.layers[0].input\n"
   ]
  },
  {
   "cell_type": "code",
   "execution_count": 4,
   "metadata": {},
   "outputs": [],
   "source": [
    "for layer in model.layers:\n",
    "    layer.trainable = False\n"
   ]
  },
  {
   "cell_type": "code",
   "execution_count": 5,
   "metadata": {},
   "outputs": [],
   "source": [
    "from keras.models import Sequential "
   ]
  },
  {
   "cell_type": "code",
   "execution_count": 6,
   "metadata": {},
   "outputs": [],
   "source": [
    "from keras.layers import Dense"
   ]
  },
  {
   "cell_type": "code",
   "execution_count": 7,
   "metadata": {},
   "outputs": [],
   "source": [
    "top_model = model.output"
   ]
  },
  {
   "cell_type": "code",
   "execution_count": 8,
   "metadata": {},
   "outputs": [
    {
     "data": {
      "text/plain": [
       "<tf.Tensor 'predictions/Softmax:0' shape=(None, 1000) dtype=float32>"
      ]
     },
     "execution_count": 8,
     "metadata": {},
     "output_type": "execute_result"
    }
   ],
   "source": [
    "top_model"
   ]
  },
  {
   "cell_type": "code",
   "execution_count": 9,
   "metadata": {},
   "outputs": [],
   "source": [
    "top_model = Dense(1024, activation='relu')(top_model)"
   ]
  },
  {
   "cell_type": "code",
   "execution_count": 10,
   "metadata": {},
   "outputs": [],
   "source": [
    "top_model = Dense(512, activation='relu')(top_model)"
   ]
  },
  {
   "cell_type": "code",
   "execution_count": 11,
   "metadata": {},
   "outputs": [],
   "source": [
    "top_model = Dense(2, activation='softmax')(top_model)"
   ]
  },
  {
   "cell_type": "code",
   "execution_count": 12,
   "metadata": {},
   "outputs": [],
   "source": [
    "from keras.models import Model"
   ]
  },
  {
   "cell_type": "code",
   "execution_count": 13,
   "metadata": {},
   "outputs": [
    {
     "data": {
      "text/plain": [
       "<tf.Tensor 'input_1:0' shape=(None, 224, 224, 3) dtype=float32>"
      ]
     },
     "execution_count": 13,
     "metadata": {},
     "output_type": "execute_result"
    }
   ],
   "source": [
    "model.input"
   ]
  },
  {
   "cell_type": "code",
   "execution_count": 14,
   "metadata": {},
   "outputs": [
    {
     "data": {
      "text/plain": [
       "<tf.Tensor 'dense_3/Softmax:0' shape=(None, 2) dtype=float32>"
      ]
     },
     "execution_count": 14,
     "metadata": {},
     "output_type": "execute_result"
    }
   ],
   "source": [
    "top_model"
   ]
  },
  {
   "cell_type": "code",
   "execution_count": 15,
   "metadata": {},
   "outputs": [],
   "source": [
    "newmodel  = Model(inputs = model.input , outputs = top_model )"
   ]
  },
  {
   "cell_type": "code",
   "execution_count": 16,
   "metadata": {},
   "outputs": [
    {
     "data": {
      "text/plain": [
       "[<keras.engine.input_layer.InputLayer at 0x29ab659d908>,\n",
       " <keras.layers.convolutional.Conv2D at 0x29aadd2f748>,\n",
       " <keras.layers.convolutional.Conv2D at 0x29aac8326c8>,\n",
       " <keras.layers.pooling.MaxPooling2D at 0x29ab660cfc8>,\n",
       " <keras.layers.convolutional.Conv2D at 0x29ab6605288>,\n",
       " <keras.layers.convolutional.Conv2D at 0x29ab6612f48>,\n",
       " <keras.layers.pooling.MaxPooling2D at 0x29ab6613488>,\n",
       " <keras.layers.convolutional.Conv2D at 0x29ab6613fc8>,\n",
       " <keras.layers.convolutional.Conv2D at 0x29ab661ff08>,\n",
       " <keras.layers.convolutional.Conv2D at 0x29ab662d388>,\n",
       " <keras.layers.pooling.MaxPooling2D at 0x29ab6632b48>,\n",
       " <keras.layers.convolutional.Conv2D at 0x29ab66323c8>,\n",
       " <keras.layers.convolutional.Conv2D at 0x29ab663ac88>,\n",
       " <keras.layers.convolutional.Conv2D at 0x29ab6643408>,\n",
       " <keras.layers.pooling.MaxPooling2D at 0x29ab664a908>,\n",
       " <keras.layers.convolutional.Conv2D at 0x29ab664a788>,\n",
       " <keras.layers.convolutional.Conv2D at 0x29ab6654908>,\n",
       " <keras.layers.convolutional.Conv2D at 0x29ab6656288>,\n",
       " <keras.layers.pooling.MaxPooling2D at 0x29ab6663f48>,\n",
       " <keras.layers.core.Flatten at 0x29ab6663b08>,\n",
       " <keras.layers.core.Dense at 0x29ab666e888>,\n",
       " <keras.layers.core.Dense at 0x29ab668c448>,\n",
       " <keras.layers.core.Dense at 0x29ab668c648>,\n",
       " <keras.layers.core.Dense at 0x29ab6805408>,\n",
       " <keras.layers.core.Dense at 0x29ab67fd3c8>,\n",
       " <keras.layers.core.Dense at 0x29ab680e548>]"
      ]
     },
     "execution_count": 16,
     "metadata": {},
     "output_type": "execute_result"
    }
   ],
   "source": [
    "newmodel.layers"
   ]
  },
  {
   "cell_type": "code",
   "execution_count": 17,
   "metadata": {},
   "outputs": [
    {
     "data": {
      "text/plain": [
       "[<keras.engine.input_layer.InputLayer at 0x29ab659d908>,\n",
       " <keras.layers.convolutional.Conv2D at 0x29aadd2f748>,\n",
       " <keras.layers.convolutional.Conv2D at 0x29aac8326c8>,\n",
       " <keras.layers.pooling.MaxPooling2D at 0x29ab660cfc8>,\n",
       " <keras.layers.convolutional.Conv2D at 0x29ab6605288>,\n",
       " <keras.layers.convolutional.Conv2D at 0x29ab6612f48>,\n",
       " <keras.layers.pooling.MaxPooling2D at 0x29ab6613488>,\n",
       " <keras.layers.convolutional.Conv2D at 0x29ab6613fc8>,\n",
       " <keras.layers.convolutional.Conv2D at 0x29ab661ff08>,\n",
       " <keras.layers.convolutional.Conv2D at 0x29ab662d388>,\n",
       " <keras.layers.pooling.MaxPooling2D at 0x29ab6632b48>,\n",
       " <keras.layers.convolutional.Conv2D at 0x29ab66323c8>,\n",
       " <keras.layers.convolutional.Conv2D at 0x29ab663ac88>,\n",
       " <keras.layers.convolutional.Conv2D at 0x29ab6643408>,\n",
       " <keras.layers.pooling.MaxPooling2D at 0x29ab664a908>,\n",
       " <keras.layers.convolutional.Conv2D at 0x29ab664a788>,\n",
       " <keras.layers.convolutional.Conv2D at 0x29ab6654908>,\n",
       " <keras.layers.convolutional.Conv2D at 0x29ab6656288>,\n",
       " <keras.layers.pooling.MaxPooling2D at 0x29ab6663f48>,\n",
       " <keras.layers.core.Flatten at 0x29ab6663b08>,\n",
       " <keras.layers.core.Dense at 0x29ab666e888>,\n",
       " <keras.layers.core.Dense at 0x29ab668c448>,\n",
       " <keras.layers.core.Dense at 0x29ab668c648>]"
      ]
     },
     "execution_count": 17,
     "metadata": {},
     "output_type": "execute_result"
    }
   ],
   "source": [
    "model.layers"
   ]
  },
  {
   "cell_type": "code",
   "execution_count": 18,
   "metadata": {},
   "outputs": [
    {
     "name": "stdout",
     "output_type": "stream",
     "text": [
      "Found 200 images belonging to 2 classes.\n"
     ]
    }
   ],
   "source": [
    "from keras.preprocessing.image import ImageDataGenerator\n",
    "\n",
    "train_data_dir = 'dataset/'\n",
    "\n",
    "\n",
    "# Let's use some data augmentaiton \n",
    "train_datagen = ImageDataGenerator(\n",
    "      rescale=1./255,\n",
    "      rotation_range=45,\n",
    "      width_shift_range=0.3,\n",
    "      height_shift_range=0.3,\n",
    "      horizontal_flip=True,\n",
    "      fill_mode='nearest')\n",
    " \n",
    "train_generator = train_datagen.flow_from_directory(\n",
    "        train_data_dir,\n",
    "        target_size=(224, 224))"
   ]
  },
  {
   "cell_type": "code",
   "execution_count": 19,
   "metadata": {},
   "outputs": [
    {
     "name": "stdout",
     "output_type": "stream",
     "text": [
      "Epoch 1/5\n",
      "200/200 [==============================] - 992s 5s/step - loss: 0.5894 - accuracy: 0.6781\n",
      "Epoch 2/5\n",
      "200/200 [==============================] - 925s 5s/step - loss: 0.3704 - accuracy: 0.8408\n",
      "Epoch 3/5\n",
      "200/200 [==============================] - 863s 4s/step - loss: 0.2498 - accuracy: 0.8934\n",
      "Epoch 4/5\n",
      "200/200 [==============================] - 858s 4s/step - loss: 0.2058 - accuracy: 0.9152\n",
      "Epoch 5/5\n",
      "200/200 [==============================] - 849s 4s/step - loss: 0.1683 - accuracy: 0.9378\n"
     ]
    }
   ],
   "source": [
    "from keras.optimizers import RMSprop\n",
    "\n",
    "\n",
    "# We use a very small learning rate \n",
    "newmodel.compile(loss = 'categorical_crossentropy',\n",
    "              optimizer = RMSprop(lr = 0.001),\n",
    "              metrics = ['accuracy'])\n",
    "\n",
    "# Enter the number of training and validation samples here\n",
    "nb_train_samples = 200\n",
    "\n",
    "# We only train 5 EPOCHS \n",
    "epochs = 5\n",
    "\n",
    "history = newmodel.fit_generator(\n",
    "    train_generator,\n",
    "    steps_per_epoch = nb_train_samples,\n",
    "    epochs = epochs)"
   ]
  },
  {
   "cell_type": "code",
   "execution_count": 21,
   "metadata": {},
   "outputs": [],
   "source": [
    "newmodel.save(\"fiimagerecognition_vgg16.h5\")"
   ]
  },
  {
   "cell_type": "code",
   "execution_count": null,
   "metadata": {},
   "outputs": [],
   "source": []
  },
  {
   "cell_type": "code",
   "execution_count": null,
   "metadata": {},
   "outputs": [],
   "source": []
  },
  {
   "cell_type": "code",
   "execution_count": null,
   "metadata": {},
   "outputs": [],
   "source": []
  },
  {
   "cell_type": "code",
   "execution_count": null,
   "metadata": {},
   "outputs": [],
   "source": []
  }
 ],
 "metadata": {
  "kernelspec": {
   "display_name": "Python 3",
   "language": "python",
   "name": "python3"
  },
  "language_info": {
   "codemirror_mode": {
    "name": "ipython",
    "version": 3
   },
   "file_extension": ".py",
   "mimetype": "text/x-python",
   "name": "python",
   "nbconvert_exporter": "python",
   "pygments_lexer": "ipython3",
   "version": "3.7.7"
  }
 },
 "nbformat": 4,
 "nbformat_minor": 4
}
